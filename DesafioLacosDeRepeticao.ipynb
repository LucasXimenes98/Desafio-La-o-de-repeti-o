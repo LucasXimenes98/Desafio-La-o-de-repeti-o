{
  "nbformat": 4,
  "nbformat_minor": 0,
  "metadata": {
    "colab": {
      "provenance": [],
      "authorship_tag": "ABX9TyNcwO8eLte6WLazHuwmx5DV",
      "include_colab_link": true
    },
    "kernelspec": {
      "name": "python3",
      "display_name": "Python 3"
    },
    "language_info": {
      "name": "python"
    }
  },
  "cells": [
    {
      "cell_type": "markdown",
      "metadata": {
        "id": "view-in-github",
        "colab_type": "text"
      },
      "source": [
        "<a href=\"https://colab.research.google.com/github/LucasXimenes98/Desafio-La-o-de-repeti-o/blob/main/DesafioLacosDeRepeticao.ipynb\" target=\"_parent\"><img src=\"https://colab.research.google.com/assets/colab-badge.svg\" alt=\"Open In Colab\"/></a>"
      ]
    },
    {
      "cell_type": "code",
      "execution_count": 1,
      "metadata": {
        "colab": {
          "base_uri": "https://localhost:8080/"
        },
        "id": "NlGa7jS0UnuJ",
        "outputId": "6ac839f2-5a8b-4c6f-94d4-1973a63bac5a"
      },
      "outputs": [
        {
          "output_type": "stream",
          "name": "stdout",
          "text": [
            "Digite o salário atual do colaborador: 700\n",
            "1. Salário antes do reajuste: R$ 700.0\n",
            "2. Percentual de aumento aplicado: 15 %\n",
            "3. Valor do aumento: R$ 105.0\n",
            "4. Novo salário, após o aumento: R$ 805.0\n",
            "5. Valor do aumento real, descontado a inflação: R$ 101.01\n"
          ]
        }
      ],
      "source": [
        "# Definindo a inflação do período\n",
        "inflacao = 0.038\n",
        "\n",
        "# Solicitando o salário do colaborador\n",
        "salario_atual = float(input(\"Digite o salário atual do colaborador: \"))\n",
        "\n",
        "# Determinando o percentual de aumento baseado no salário atual\n",
        "if salario_atual <= 280:\n",
        "    percentual_aumento = 20\n",
        "elif salario_atual <= 700:\n",
        "    percentual_aumento = 15\n",
        "elif salario_atual <= 1500:\n",
        "    percentual_aumento = 10\n",
        "else:\n",
        "    percentual_aumento = 5\n",
        "\n",
        "# Calculando o valor do aumento e o novo salário\n",
        "aumento = salario_atual * (percentual_aumento / 100)\n",
        "novo_salario = salario_atual + aumento\n",
        "\n",
        "# Calculando o aumento real descontando a inflação\n",
        "aumento_real = aumento - (aumento * inflacao)\n",
        "\n",
        "# Exibindo os resultados na tela\n",
        "print(\"1. Salário antes do reajuste: R$\", salario_atual)\n",
        "print(\"2. Percentual de aumento aplicado:\", percentual_aumento, \"%\")\n",
        "print(\"3. Valor do aumento: R$\", aumento)\n",
        "print(\"4. Novo salário, após o aumento: R$\", novo_salario)\n",
        "print(\"5. Valor do aumento real, descontado a inflação: R$\", aumento_real)\n",
        "\n"
      ]
    }
  ]
}